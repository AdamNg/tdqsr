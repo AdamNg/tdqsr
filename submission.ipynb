{
 "cells": [
  {
   "cell_type": "code",
   "execution_count": 3,
   "metadata": {},
   "outputs": [
    {
     "name": "stdout",
     "output_type": "stream",
     "text": [
      "2023-06-16 06:23:14,305 | INFO : rebalancing with execution_weights {'AAPL': 0.4, 'TSLA': 0.4, 'MSFT': 0.2}\n",
      "2023-06-16 06:23:14,306 | INFO : rebalancing on aum = 100.0\n",
      "2023-06-16 06:23:14,307 | INFO : rebalancing over prices = {'AAPL': 15.271204754987654, 'TSLA': 23.313664599110666, 'MSFT': 24.76838209771028, 'CASH': 1.0}\n",
      "2023-06-16 06:23:14,308 | INFO : rebalancing to weights = {'AAPL': 0.4, 'TSLA': 0.4, 'MSFT': 0.2, 'CASH': 0.0}\n",
      "2023-06-16 06:23:14,309 | INFO : rebalancing to units = {'AAPL': 2.619308734429469, 'TSLA': 1.7157319832732714, 'MSFT': 0.8074810829831677, 'CASH': 0.0}\n",
      "2023-06-16 06:23:14,309 | INFO : rebalancing from units {}\n",
      "2023-06-16 06:23:14,311 | INFO : rebalancing to units {'AAPL': 2.619308734429469, 'TSLA': 1.7157319832732714, 'MSFT': 0.8074810829831677}\n",
      "2023-06-16 06:23:14,312 | INFO : rebalancing execution units {'AAPL': 2.619308734429469, 'TSLA': 1.7157319832732714, 'MSFT': 0.8074810829831677} \n",
      "2023-06-16 06:23:14,312 | INFO : executing (changes) in positions <class 'source.demo.position.Positions'> (<class 'source.demo.position.Positions'>({'AAPL': 2.619308734429469, 'TSLA': 1.7157319832732714, 'MSFT': 0.8074810829831677, 'CASH': 0.0}))\n"
     ]
    }
   ],
   "source": [
    "# initialize logging environment\n",
    "import sys\n",
    "import logging\n",
    "\n",
    "logging.basicConfig(\n",
    "    format='%(asctime)s | %(levelname)s : %(message)s',\n",
    "    level=logging.INFO, stream=sys.stdout,)\n",
    "\n",
    "# logging.basicConfig(\n",
    "#     format='[%(asctime)s | %(levelname)5s | %(filename)s:%(lineno)5s - %(funcName)20s()] %(message)s',\n",
    "#     level=logging.DEBUG, stream=sys.stdout,)\n",
    "    \n",
    "from source.demo import Utilities, RebalancingSystem\n",
    "\n",
    "the_system = RebalancingSystem()\n",
    "\n",
    "some_wgt = Utilities.load_json(r'./data/targetWeights_20230321.json')\n",
    "\n",
    "some_hedge_position = the_system.rebalance(some_wgt)\n",
    "Utilities.cache_json(some_hedge_position, r'./sumbission.output.demo.json')\n",
    "\n"
   ]
  },
  {
   "cell_type": "code",
   "execution_count": 4,
   "metadata": {},
   "outputs": [
    {
     "name": "stdout",
     "output_type": "stream",
     "text": [
      "2023-06-16 06:23:15,642 | INFO : rebalancing with execution_weights {'AAPL': 0.4, 'TSLA': 0.4, 'MSFT': 0.2, 'CASH': 0.0}\n",
      "2023-06-16 06:23:15,644 | INFO : rebalancing on aum = 79.43145953695907\n",
      "2023-06-16 06:23:15,644 | INFO : rebalancing over prices = {'AAPL': 21.591537889841675, 'TSLA': 25.41738283987951, 'MSFT': 16.54892237372641, 'CASH': 1.0}\n",
      "2023-06-16 06:23:15,645 | INFO : rebalancing to weights = {'AAPL': 0.4, 'TSLA': 0.4, 'MSFT': 0.2, 'CASH': 0.0}\n",
      "2023-06-16 06:23:15,646 | INFO : rebalancing to units = {'AAPL': 1.4715294471790221, 'TSLA': 1.2500336488197714, 'MSFT': 0.959959298172393, 'CASH': 0.0}\n",
      "2023-06-16 06:23:15,646 | INFO : rebalancing from units {'AAPL': 2.619308734429469, 'TSLA': 1.7157319832732714, 'MSFT': 0.8074810829831677}\n",
      "2023-06-16 06:23:15,648 | INFO : rebalancing to units {'AAPL': 1.4715294471790221, 'TSLA': 1.2500336488197714, 'MSFT': 0.959959298172393}\n",
      "2023-06-16 06:23:15,648 | INFO : rebalancing execution units {'AAPL': -1.1477792872504469, 'TSLA': -0.46569833445349995, 'MSFT': 0.15247821518922533} \n",
      "2023-06-16 06:23:15,649 | INFO : executing (changes) in positions <class 'source.demo.position.Positions'> (<class 'source.demo.position.Positions'>({'AAPL': 1.4715294471790221, 'TSLA': 1.2500336488197714, 'MSFT': 0.959959298172393, 'CASH': 0.0}))\n",
      "2023-06-16 06:23:15,649 | INFO : rebalancing with execution_weights {'AAPL': 0.4, 'TSLA': 0.4, 'MSFT': 0.2, 'CASH': 0.0}\n",
      "2023-06-16 06:23:15,650 | INFO : rebalancing on aum = 62.07590131893606\n",
      "2023-06-16 06:23:15,650 | INFO : rebalancing over prices = {'AAPL': 23.32425674160394, 'TSLA': 29.732636549416803, 'MSFT': 11.300920712504908, 'CASH': 1.0}\n",
      "2023-06-16 06:23:15,651 | INFO : rebalancing to weights = {'AAPL': 0.4, 'TSLA': 0.4, 'MSFT': 0.2, 'CASH': 0.0}\n",
      "2023-06-16 06:23:15,652 | INFO : rebalancing to units = {'AAPL': 1.0645724235784122, 'TSLA': 0.8351213820646346, 'MSFT': 1.0985990061897641, 'CASH': 0.0}\n",
      "2023-06-16 06:23:15,653 | INFO : rebalancing from units {'AAPL': 1.4715294471790221, 'TSLA': 1.2500336488197714, 'MSFT': 0.959959298172393}\n",
      "2023-06-16 06:23:15,653 | INFO : rebalancing to units {'AAPL': 1.0645724235784122, 'TSLA': 0.8351213820646346, 'MSFT': 1.0985990061897641}\n",
      "2023-06-16 06:23:15,654 | INFO : rebalancing execution units {'AAPL': -0.4069570236006099, 'TSLA': -0.4149122667551368, 'MSFT': 0.13863970801737113} \n",
      "2023-06-16 06:23:15,656 | INFO : executing (changes) in positions <class 'source.demo.position.Positions'> (<class 'source.demo.position.Positions'>({'AAPL': 1.0645724235784122, 'TSLA': 0.8351213820646346, 'MSFT': 1.0985990061897641, 'CASH': 0.0}))\n",
      "2023-06-16 06:23:15,657 | INFO : rebalancing with execution_weights {'AAPL': 0.4, 'TSLA': 0.4, 'MSFT': 0.2, 'CASH': 0.0}\n",
      "2023-06-16 06:23:15,658 | INFO : rebalancing on aum = 58.7128629011482\n",
      "2023-06-16 06:23:15,658 | INFO : rebalancing over prices = {'AAPL': 15.708448215351469, 'TSLA': 26.627403052202254, 'MSFT': 22.6382908800104, 'CASH': 1.0}\n",
      "2023-06-16 06:23:15,659 | INFO : rebalancing to weights = {'AAPL': 0.4, 'TSLA': 0.4, 'MSFT': 0.2, 'CASH': 0.0}\n",
      "2023-06-16 06:23:15,659 | INFO : rebalancing to units = {'AAPL': 1.4950646199099313, 'TSLA': 0.8819915751610224, 'MSFT': 0.518704024189314, 'CASH': 0.0}\n",
      "2023-06-16 06:23:15,660 | INFO : rebalancing from units {'AAPL': 1.0645724235784122, 'TSLA': 0.8351213820646346, 'MSFT': 1.0985990061897641}\n",
      "2023-06-16 06:23:15,661 | INFO : rebalancing to units {'AAPL': 1.4950646199099313, 'TSLA': 0.8819915751610224, 'MSFT': 0.518704024189314}\n",
      "2023-06-16 06:23:15,661 | INFO : rebalancing execution units {'AAPL': 0.43049219633151914, 'TSLA': 0.04687019309638785, 'MSFT': -0.5798949820004501} \n",
      "2023-06-16 06:23:15,662 | INFO : executing (changes) in positions <class 'source.demo.position.Positions'> (<class 'source.demo.position.Positions'>({'AAPL': 1.4950646199099313, 'TSLA': 0.8819915751610224, 'MSFT': 0.518704024189314, 'CASH': 0.0}))\n",
      "2023-06-16 06:23:15,663 | INFO : rebalancing with execution_weights {'AAPL': 0.4, 'TSLA': 0.4, 'MSFT': 0.2, 'CASH': 0.0}\n",
      "2023-06-16 06:23:15,664 | INFO : rebalancing on aum = 44.73524605493897\n",
      "2023-06-16 06:23:15,665 | INFO : rebalancing over prices = {'AAPL': 19.00469923930945, 'TSLA': 28.174130998301226, 'MSFT': 13.637562241232688, 'CASH': 1.0}\n",
      "2023-06-16 06:23:15,665 | INFO : rebalancing to weights = {'AAPL': 0.4, 'TSLA': 0.4, 'MSFT': 0.2, 'CASH': 0.0}\n",
      "2023-06-16 06:23:15,666 | INFO : rebalancing to units = {'AAPL': 0.9415617788343271, 'TSLA': 0.6351251232222397, 'MSFT': 0.6560592760439771, 'CASH': 0.0}\n",
      "2023-06-16 06:23:15,667 | INFO : rebalancing from units {'AAPL': 1.4950646199099313, 'TSLA': 0.8819915751610224, 'MSFT': 0.518704024189314}\n",
      "2023-06-16 06:23:15,668 | INFO : rebalancing to units {'AAPL': 0.9415617788343271, 'TSLA': 0.6351251232222397, 'MSFT': 0.6560592760439771}\n",
      "2023-06-16 06:23:15,668 | INFO : rebalancing execution units {'AAPL': -0.5535028410756042, 'TSLA': -0.24686645193878276, 'MSFT': 0.13735525185466302} \n",
      "2023-06-16 06:23:15,669 | INFO : executing (changes) in positions <class 'source.demo.position.Positions'> (<class 'source.demo.position.Positions'>({'AAPL': 0.9415617788343271, 'TSLA': 0.6351251232222397, 'MSFT': 0.6560592760439771, 'CASH': 0.0}))\n"
     ]
    },
    {
     "data": {
      "text/plain": [
       "{'AAPL': -0.5535028410756042,\n",
       " 'TSLA': -0.24686645193878276,\n",
       " 'MSFT': 0.13735525185466302}"
      ]
     },
     "execution_count": 4,
     "metadata": {},
     "output_type": "execute_result"
    }
   ],
   "source": [
    "\n",
    "the_system.rebalance(some_wgt)\n",
    "the_system.rebalance(some_wgt)\n",
    "the_system.rebalance(some_wgt)\n",
    "the_system.rebalance(some_wgt)\n"
   ]
  },
  {
   "cell_type": "code",
   "execution_count": null,
   "metadata": {},
   "outputs": [],
   "source": []
  }
 ],
 "metadata": {
  "kernelspec": {
   "display_name": "Python 3",
   "language": "python",
   "name": "python3"
  },
  "language_info": {
   "codemirror_mode": {
    "name": "ipython",
    "version": 3
   },
   "file_extension": ".py",
   "mimetype": "text/x-python",
   "name": "python",
   "nbconvert_exporter": "python",
   "pygments_lexer": "ipython3",
   "version": "3.8.6"
  },
  "orig_nbformat": 4
 },
 "nbformat": 4,
 "nbformat_minor": 2
}
